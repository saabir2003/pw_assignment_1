{
 "cells": [
  {
   "cell_type": "raw",
   "id": "0c45e17d-086f-4569-a2b2-8d34384fdb48",
   "metadata": {},
   "source": [
    "1)Explain key features of python that make it a popular choice for coding?"
   ]
  },
  {
   "cell_type": "raw",
   "id": "c778c4ab-0e37-4fbe-be11-fa1660d0ad83",
   "metadata": {},
   "source": [
    "ANS - Python is simple and used to learn which has a huge community, it contains a lot of useful libraries and packages which are used for data science and AI. It is a growing community. It has many important libraries useful for data manipulation, visualization, and machine Learning . Some of these include numpy, pandas , matplotlib, tensorflow."
   ]
  },
  {
   "cell_type": "raw",
   "id": "a5780ae7-5ba8-470f-bee5-fdd4c82065c6",
   "metadata": {},
   "source": [
    "2)Describe the role of predefined keywords in python and provide examples of how they are used in a program"
   ]
  },
  {
   "cell_type": "raw",
   "id": "39292933-db50-43f1-a2d2-8337b99f6bcb",
   "metadata": {},
   "source": [
    "ANS - predefined keywords are reserved words in python which play an important role in programming . every keyword has a particular purpose and functionality in python.\n",
    "Examples include\n",
    "input() to take input from the uses,\n",
    "print() to print output on terminal,\n",
    "While to create a loop,\n",
    "In (membership operator),\n",
    "Is (identity operator\n"
   ]
  },
  {
   "cell_type": "raw",
   "id": "acab1de9-4f94-4db4-bfdb-373a3c11820a",
   "metadata": {},
   "source": [
    "3)compare and contract mutable and immutable objects in python with examples"
   ]
  },
  {
   "cell_type": "raw",
   "id": "75f24b4e-3593-4ee3-aeb1-1358a9d76ef2",
   "metadata": {},
   "source": [
    "ANS -  mutable objects are objects which can be changed or modified according to the scenario examples are list and dictionary\n",
    "immutable objects are objects which cannot be changed or modified according to the scenario examples are string and tuple"
   ]
  },
  {
   "cell_type": "code",
   "execution_count": 45,
   "id": "329e55c0-15d0-4413-aea0-bc0fdefe4e62",
   "metadata": {},
   "outputs": [
    {
     "name": "stdout",
     "output_type": "stream",
     "text": [
      "[1, 2, 3, 4, 5]\n",
      "[1, 2, 34, 4, 32]\n"
     ]
    }
   ],
   "source": [
    "#list\n",
    "li=[1,2,3,4,5]\n",
    "print(li)\n",
    "li[2]=34\n",
    "li[4]=32\n",
    "print(li)\n"
   ]
  },
  {
   "cell_type": "code",
   "execution_count": 47,
   "id": "726ab243-e26d-4011-a8e3-dc2187ed9cb1",
   "metadata": {},
   "outputs": [
    {
     "name": "stdout",
     "output_type": "stream",
     "text": [
      "{'one': 1, 'two': 2, 'three': 3}\n",
      "{'one': 23, 'two': 34, 'three': 3}\n"
     ]
    }
   ],
   "source": [
    "# dictionary\n",
    "dic={'one':1,'two':2,\"three\":3}\n",
    "print(dic)\n",
    "dic[\"one\"]=23\n",
    "dic[\"two\"]=34\n",
    "print(dic)"
   ]
  },
  {
   "cell_type": "code",
   "execution_count": 49,
   "id": "a8f23a72-6dd3-4f2c-bca8-1f92fa6e644e",
   "metadata": {},
   "outputs": [
    {
     "ename": "TypeError",
     "evalue": "'str' object does not support item assignment",
     "output_type": "error",
     "traceback": [
      "\u001b[1;31m---------------------------------------------------------------------------\u001b[0m",
      "\u001b[1;31mTypeError\u001b[0m                                 Traceback (most recent call last)",
      "Cell \u001b[1;32mIn[49], line 3\u001b[0m\n\u001b[0;32m      1\u001b[0m \u001b[38;5;66;03m#string\u001b[39;00m\n\u001b[0;32m      2\u001b[0m a\u001b[38;5;241m=\u001b[39m\u001b[38;5;124m\"\u001b[39m\u001b[38;5;124mSaabir\u001b[39m\u001b[38;5;124m\"\u001b[39m\n\u001b[1;32m----> 3\u001b[0m a[\u001b[38;5;241m0\u001b[39m]\u001b[38;5;241m=\u001b[39m\u001b[38;5;124m\"\u001b[39m\u001b[38;5;124me\u001b[39m\u001b[38;5;124m\"\u001b[39m\n",
      "\u001b[1;31mTypeError\u001b[0m: 'str' object does not support item assignment"
     ]
    }
   ],
   "source": [
    "#string\n",
    "a=\"Saabir\"\n",
    "print(a)\n",
    "a[0]=\"e\""
   ]
  },
  {
   "cell_type": "code",
   "execution_count": 51,
   "id": "b7b671ef-ced5-4b00-b958-337b0ce05b4d",
   "metadata": {},
   "outputs": [
    {
     "name": "stdout",
     "output_type": "stream",
     "text": [
      "(1, 2, 3, 4)\n"
     ]
    },
    {
     "ename": "TypeError",
     "evalue": "'tuple' object does not support item assignment",
     "output_type": "error",
     "traceback": [
      "\u001b[1;31m---------------------------------------------------------------------------\u001b[0m",
      "\u001b[1;31mTypeError\u001b[0m                                 Traceback (most recent call last)",
      "Cell \u001b[1;32mIn[51], line 4\u001b[0m\n\u001b[0;32m      2\u001b[0m t\u001b[38;5;241m=\u001b[39m(\u001b[38;5;241m1\u001b[39m,\u001b[38;5;241m2\u001b[39m,\u001b[38;5;241m3\u001b[39m,\u001b[38;5;241m4\u001b[39m)\n\u001b[0;32m      3\u001b[0m \u001b[38;5;28mprint\u001b[39m(t)\n\u001b[1;32m----> 4\u001b[0m t[\u001b[38;5;241m0\u001b[39m]\u001b[38;5;241m=\u001b[39m\u001b[38;5;241m23\u001b[39m\n",
      "\u001b[1;31mTypeError\u001b[0m: 'tuple' object does not support item assignment"
     ]
    }
   ],
   "source": [
    "#tuple\n",
    "t=(1,2,3,4)\n",
    "print(t)\n",
    "t[0]=23"
   ]
  },
  {
   "cell_type": "markdown",
   "id": "a1d5b5ca-7bf3-40f2-9026-d026e7af9905",
   "metadata": {},
   "source": [
    "###4)Discuss different types of operators in python and provide examples of how they are used"
   ]
  },
  {
   "cell_type": "raw",
   "id": "c7ed84fe-119a-477e-948b-dbe3419ff946",
   "metadata": {},
   "source": [
    "there are 7 different types of operators:\n",
    "they are\n",
    "assignment operators\n",
    "comparison operators\n",
    "arthematic operators\n",
    "membership operators\n",
    "identity operators\n",
    "logical operators\n",
    "bitwise operarors"
   ]
  },
  {
   "cell_type": "code",
   "execution_count": 53,
   "id": "8444933c-1286-4a9c-856a-f3aabde90f09",
   "metadata": {},
   "outputs": [
    {
     "name": "stdout",
     "output_type": "stream",
     "text": [
      "saabir shaik.saabir2003@gmail.com\n"
     ]
    }
   ],
   "source": [
    "#assignment operators\n",
    "#this is used to assign a value to a variable\n",
    "name=\"saabir\"\n",
    "email=\"shaik.saabir2003@gmail.com\"\n",
    "print(name, email)"
   ]
  },
  {
   "cell_type": "code",
   "execution_count": 61,
   "id": "d8a76b6a-0ef3-437b-b9a1-cc6f1d5eca78",
   "metadata": {},
   "outputs": [
    {
     "name": "stdout",
     "output_type": "stream",
     "text": [
      "False\n",
      "True\n"
     ]
    }
   ],
   "source": [
    "#comparison operators\n",
    "# it is used to compare various various objects and return a boolean value(True or False)\n",
    "a1=1\n",
    "a2=2\n",
    "print(a1==a2)\n",
    "print(a1<=a2)"
   ]
  },
  {
   "cell_type": "code",
   "execution_count": 71,
   "id": "92e6d6db-fc2f-4e46-8ea7-b19d059d4e51",
   "metadata": {},
   "outputs": [
    {
     "name": "stdout",
     "output_type": "stream",
     "text": [
      "2\n",
      "4\n",
      "20\n"
     ]
    }
   ],
   "source": [
    "#arthematic operators\n",
    "#it is used to perform mathematical operartions on varibles\n",
    "de=1\n",
    "df=2\n",
    "de+=1\n",
    "print(de)\n",
    "de*=df\n",
    "print(de)\n",
    "de*=5\n",
    "print(de)"
   ]
  },
  {
   "cell_type": "code",
   "execution_count": 77,
   "id": "62ec382e-14e9-4889-b638-c9c8200ec503",
   "metadata": {},
   "outputs": [
    {
     "name": "stdout",
     "output_type": "stream",
     "text": [
      "1 2 3 4 "
     ]
    }
   ],
   "source": [
    "#membership operators\n",
    "# it is used to check wheather a object is part of list or tuple, etc\n",
    "# it is used to iterate over a list or string they are in and not in\n",
    "lis=[1,2,3,4]\n",
    "for i in lis:\n",
    "    print(i,end=\" \")"
   ]
  },
  {
   "cell_type": "code",
   "execution_count": 81,
   "id": "3fb2675c-a96e-4c71-bc05-5d86d970f9da",
   "metadata": {},
   "outputs": [
    {
     "name": "stdout",
     "output_type": "stream",
     "text": [
      "False\n",
      "True\n"
     ]
    }
   ],
   "source": [
    "#identity operators\n",
    "# it is used to check or compare the location or references of the variable or object\n",
    "# is or not is keywords are used\n",
    "s1=1\n",
    "s2=2\n",
    "print(s1 is s2)\n",
    "s2=1\n",
    "print(s1 is s2)"
   ]
  },
  {
   "cell_type": "code",
   "execution_count": 94,
   "id": "88858c42-8aae-47c4-aee3-3cd3d0932771",
   "metadata": {},
   "outputs": [
    {
     "name": "stdout",
     "output_type": "stream",
     "text": [
      "yes\n",
      "| operator is used\n"
     ]
    }
   ],
   "source": [
    "#logical operators\n",
    "# these are used to perform \"and\" or \"or\" operations on various statements or conditions\n",
    "# they are & and |\n",
    "if ((1 == 1) and (2==2)):\n",
    "    print(\"yes\")\n",
    "if ((1==1) or (2==1)):\n",
    "    print(\"or operator is used\")"
   ]
  },
  {
   "cell_type": "code",
   "execution_count": 102,
   "id": "e119ff8b-db26-4038-a993-2db21032a53b",
   "metadata": {},
   "outputs": [
    {
     "name": "stdout",
     "output_type": "stream",
     "text": [
      "bitwise and 32\n",
      "bitwise or 102\n",
      "left shift 800\n"
     ]
    }
   ],
   "source": [
    "#bitwise operators\n",
    "#these are oprations that are performed at bitwise level or bit\n",
    "# they are bitwise and &, bitwise or |, XOR ^ , left shift <<, right shift >>\n",
    "b1=100\n",
    "b2=34\n",
    "print(\"bitwise and\",b1&b2)\n",
    "print(\"bitwise or\",b1|b2)\n",
    "print(\"left shift\", b1 << 3)"
   ]
  },
  {
   "cell_type": "raw",
   "id": "e9bbf6c7-215b-4143-a0e7-09406bb36421",
   "metadata": {},
   "source": [
    "5) explain the concept of type casting in python with examples"
   ]
  },
  {
   "cell_type": "raw",
   "id": "17c4f59d-6888-448f-9d96-10c0353517b1",
   "metadata": {},
   "source": [
    "there are two types of type casting in python \n",
    "they are implict or explict type casting\n",
    "implict type casting is done automatically by python \n",
    "explict type casting is dome manually by developer"
   ]
  },
  {
   "cell_type": "code",
   "execution_count": 114,
   "id": "59eaee65-7eaf-4f08-9d08-8ada4081b60a",
   "metadata": {},
   "outputs": [
    {
     "name": "stdout",
     "output_type": "stream",
     "text": [
      "<class 'int'> 10\n",
      "<class 'float'> 1.0\n",
      "<class 'float'> 11.0\n"
     ]
    }
   ],
   "source": [
    "#implict type casting\n",
    "a=10\n",
    "print(type(a),a)\n",
    "#automatically type casts \"int\"\n",
    "b=1.0\n",
    "print(type(b),b)\n",
    "#automatically type casts \"float\"\n",
    "c=a+b\n",
    "print(type(c),c)\n",
    "#automatically type casts \"float\" after adding \"int\" and \"float\""
   ]
  },
  {
   "cell_type": "code",
   "execution_count": 116,
   "id": "4298062f-cd05-4848-bc7a-f2a6bd323ee0",
   "metadata": {},
   "outputs": [
    {
     "name": "stdout",
     "output_type": "stream",
     "text": [
      "<class 'float'> 10.0\n",
      "<class 'int'> 1\n",
      "<class 'float'> 11.0\n"
     ]
    }
   ],
   "source": [
    "#explict type casting\n",
    "a=float(10)\n",
    "print(type(a),a)\n",
    "#manually type casts as \"float\"\n",
    "b=int(1.0)\n",
    "print(type(b),b)\n",
    "#manually type casts as \"int\" even through it is \"float\"\n",
    "c=a+b\n",
    "print(type(c),c)\n",
    "#automatically type casts \"float\" after adding"
   ]
  },
  {
   "cell_type": "raw",
   "id": "19bb9b98-4004-43ae-b128-62ffb53ff74b",
   "metadata": {},
   "source": [
    "6)how do conditional statements work in python ?Illustsate with examples"
   ]
  },
  {
   "cell_type": "raw",
   "id": "156bc3cd-d4b2-4482-a032-585063e59ddb",
   "metadata": {},
   "source": [
    "conditional statements work in such a way that if the above if the condition is True then the below block of code is executed\n",
    "there are several way to combine and write conditional statements using \n",
    "if , else , elif , nested if- else"
   ]
  },
  {
   "cell_type": "code",
   "execution_count": 122,
   "id": "dce2b772-88f1-4354-b157-5e3b29e4216c",
   "metadata": {},
   "outputs": [
    {
     "name": "stdin",
     "output_type": "stream",
     "text": [
      "enter a positve number to search -1\n"
     ]
    },
    {
     "name": "stdout",
     "output_type": "stream",
     "text": [
      "negative numbers not allowed\n"
     ]
    }
   ],
   "source": [
    "arr=[1,2,3,4,5,6]\n",
    "no=int(input(\"enter a positve number to search\"))\n",
    "if no in arr:\n",
    "       print(\"number is found\")\n",
    "elif no < 0:\n",
    "    print(\"negative numbers not allowed\")\n",
    "else:\n",
    "       print(\"number not found\")\n"
   ]
  },
  {
   "cell_type": "code",
   "execution_count": 149,
   "id": "b6820eb4-b318-48de-9ff0-df6799592ae2",
   "metadata": {},
   "outputs": [
    {
     "name": "stdin",
     "output_type": "stream",
     "text": [
      "enter index of the list positive number 1\n"
     ]
    },
    {
     "name": "stdout",
     "output_type": "stream",
     "text": [
      "The element is number\n"
     ]
    }
   ],
   "source": [
    "arr1=[\"saabir\",34,\"student\"]\n",
    "n=int(input(\"enter index of the list positive number\"))\n",
    "if ((-n-1)<=(n)):\n",
    "    if (arr1[n]):\n",
    "        if type(arr1[n]) == int :\n",
    "            print(\"The element is number\")\n",
    "        else:\n",
    "            print(\"The element is not a number\")\n",
    "else:\n",
    "    print(\"enter valid index\")\n"
   ]
  },
  {
   "cell_type": "raw",
   "id": "a5902ad6-b494-4179-a939-2f18db79c034",
   "metadata": {},
   "source": [
    "7)desribe the different types loops in python an there use cases with example"
   ]
  },
  {
   "cell_type": "raw",
   "id": "b8f3a759-3920-4cd8-8b6e-c57d7e734ac5",
   "metadata": {},
   "source": [
    "there are two different types of loops in python \n",
    "they are while loop and for loop\n",
    "we can use break and continue to control the flow of command\n",
    "\n",
    "while loop block of code is repeatedly executed until the given condition is satisfied\n",
    "for loop block of code is repeatedly executed until the given iteration of a condition"
   ]
  },
  {
   "cell_type": "code",
   "execution_count": 155,
   "id": "81daa422-210a-461f-aa45-7d1dc20588b9",
   "metadata": {},
   "outputs": [
    {
     "name": "stdout",
     "output_type": "stream",
     "text": [
      "0\n",
      "1\n",
      "2\n"
     ]
    }
   ],
   "source": [
    "#use cases and examples of while loop\n",
    "#while loop is used when we dont know the number of times block of code much be executed\n",
    "#or a given condition is satisfied\n",
    "# Example of a while loop\n",
    "c = 0\n",
    "while c < 3:\n",
    "    print(c)\n",
    "    c += 1"
   ]
  },
  {
   "cell_type": "code",
   "execution_count": 157,
   "id": "6b39e419-adc0-4701-adf4-7417c30ae984",
   "metadata": {},
   "outputs": [
    {
     "name": "stdout",
     "output_type": "stream",
     "text": [
      "saabir\n",
      "ayesha\n",
      "ram\n"
     ]
    }
   ],
   "source": [
    "#use cases and examples of for loop\n",
    "#for loop is used when we know the number of times block of code much be executed and iterate over a elements of lists\n",
    "#or a given executing a condition specific no of times\n",
    "\n",
    "# Example of a for loop iterating over a list\n",
    "names=[\"saabir\",\"ayesha\",\"ram\"]\n",
    "for i in names:\n",
    "    print(i)\n"
   ]
  },
  {
   "cell_type": "code",
   "execution_count": null,
   "id": "fe2547dd-6c13-41de-bb7b-ae392e71f646",
   "metadata": {},
   "outputs": [],
   "source": []
  }
 ],
 "metadata": {
  "kernelspec": {
   "display_name": "Python 3 (ipykernel)",
   "language": "python",
   "name": "python3"
  },
  "language_info": {
   "codemirror_mode": {
    "name": "ipython",
    "version": 3
   },
   "file_extension": ".py",
   "mimetype": "text/x-python",
   "name": "python",
   "nbconvert_exporter": "python",
   "pygments_lexer": "ipython3",
   "version": "3.12.4"
  }
 },
 "nbformat": 4,
 "nbformat_minor": 5
}
